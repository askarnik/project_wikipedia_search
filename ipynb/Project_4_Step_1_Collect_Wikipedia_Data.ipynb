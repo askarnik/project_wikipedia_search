{
 "cells": [
  {
   "cell_type": "code",
   "execution_count": 1,
   "metadata": {},
   "outputs": [
    {
     "name": "stdout",
     "output_type": "stream",
     "text": [
      "\n",
      "\n",
      "# All requested packages already installed.\n",
      "# packages in environment at /opt/conda:\n",
      "#\n",
      "pymongo                   3.4.0                    py36_0    defaults\n"
     ]
    }
   ],
   "source": [
    "!conda install --yes --quiet pymongo"
   ]
  },
  {
   "cell_type": "code",
   "execution_count": 2,
   "metadata": {},
   "outputs": [
    {
     "name": "stdout",
     "output_type": "stream",
     "text": [
      "[nltk_data] Downloading package stopwords to /home/jovyan/nltk_data...\n",
      "[nltk_data]   Package stopwords is already up-to-date!\n"
     ]
    }
   ],
   "source": [
    "%run __init__.py"
   ]
  },
  {
   "cell_type": "code",
   "execution_count": 4,
   "metadata": {},
   "outputs": [],
   "source": [
    "%run mongo_conn.py"
   ]
  },
  {
   "cell_type": "code",
   "execution_count": 5,
   "metadata": {},
   "outputs": [],
   "source": [
    "client = pymongo.MongoClient(mongo_ip, 27016)\n",
    "\n",
    "db_text = 'wikipedia_text'\n",
    "client.drop_database(db_text)\n",
    "db_ref = client.wikipedia_text\n",
    "coll_ref = db_ref.my_collection\n",
    "\n",
    "MAX_DEPTH = 3\n",
    "\n",
    "all_pages_dict = {}"
   ]
  },
  {
   "cell_type": "code",
   "execution_count": 6,
   "metadata": {},
   "outputs": [],
   "source": [
    "def process_page(pg_id, p_immed, p_cat):\n",
    "    pg_id = str(pg_id)\n",
    "    pg_request = 'http://en.wikipedia.org/w/api.php?format=json&action=query&prop=extracts&rvprop=content&pageids='+pg_id\n",
    "    \n",
    "    r = requests.get(pg_request)\n",
    "    page_dict = r.json()['query']\n",
    "       \n",
    "    dict_key = pg_id+'/'+p_cat\n",
    "    \n",
    "    try:\n",
    "        if dict_key not in all_pages_dict.keys():    \n",
    "            all_pages_dict[dict_key] = {\"page_title\": page_dict['pages'][pg_id]['title'], \n",
    "                                        \"page_text\": page_dict['pages'][pg_id]['extract'], \n",
    "                                        'immed_parent': p_immed,\n",
    "                                        'ult_parent': p_cat}\n",
    "            \n",
    "            coll_ref.insert_one(all_pages_dict[dict_key])\n",
    "            \n",
    "            \n",
    "    except:\n",
    "        with open(\"../error/problem_pages.txt\", \"a\") as myfile:\n",
    "            problem_page_str = pg_id+\", parent: \"+p_immed+\"\\n\"\n",
    "            myfile.write(problem_page_str)\n"
   ]
  },
  {
   "cell_type": "code",
   "execution_count": 7,
   "metadata": {},
   "outputs": [],
   "source": [
    "def api_category(my_str):\n",
    "    my_str_split = my_str.lstrip().rstrip().split(':')\n",
    "    ret_str = my_str_split[0].lstrip().rstrip() + '%3A+'\n",
    "    \n",
    "    category_name = my_str_split[1].split()\n",
    "    for element in category_name:\n",
    "        ret_str += element+'+'\n",
    "    \n",
    "    return ret_str[:-1]"
   ]
  },
  {
   "cell_type": "code",
   "execution_count": 8,
   "metadata": {},
   "outputs": [],
   "source": [
    "def process_category(my_cat, p_cat=None, depth_count=0):\n",
    "    cat_action = 'query'\n",
    "    cat_format = 'json'\n",
    "    cat_list = 'categorymembers'\n",
    "\n",
    "    cat_request  = 'http://en.wikipedia.org/w/api.php?action='+cat_action+'&'\n",
    "    cat_request += 'format='+cat_format+'&'\n",
    "    cat_request += 'list='+cat_list+'&'\n",
    "    \n",
    "    api_call = cat_request+'cmtitle='+api_category(my_cat)+'&cmlimit=max'\n",
    "\n",
    "    r = requests.get(api_call)\n",
    "    json_list = r.json()['query']['categorymembers']\n",
    "    \n",
    "    if p_cat == None:\n",
    "        p_cat = my_cat\n",
    "    \n",
    "    depth_count += 1\n",
    "    \n",
    "    for row in json_list:\n",
    "        if row['ns'] == 0:\n",
    "            process_page(row['pageid'], my_cat, p_cat)\n",
    "        elif row['ns'] == 14:\n",
    "            if depth_count < MAX_DEPTH:\n",
    "                process_category(row['title'], p_cat, depth_count)\n",
    "                \n",
    "    "
   ]
  },
  {
   "cell_type": "code",
   "execution_count": 9,
   "metadata": {},
   "outputs": [],
   "source": [
    "my_cats = ['Category:Machine learning', 'Category:Business software']\n",
    "\n",
    "for my_title in my_cats:\n",
    "    process_category(my_title)"
   ]
  },
  {
   "cell_type": "code",
   "execution_count": 10,
   "metadata": {},
   "outputs": [
    {
     "data": {
      "text/plain": [
       "(['admin', 'local', 'test', 'wikipedia_text'], ['my_collection'])"
      ]
     },
     "execution_count": 10,
     "metadata": {},
     "output_type": "execute_result"
    }
   ],
   "source": [
    "client.database_names(), db_ref.collection_names()"
   ]
  }
 ],
 "metadata": {
  "kernelspec": {
   "display_name": "Python 3",
   "language": "python",
   "name": "python3"
  },
  "language_info": {
   "codemirror_mode": {
    "name": "ipython",
    "version": 3
   },
   "file_extension": ".py",
   "mimetype": "text/x-python",
   "name": "python",
   "nbconvert_exporter": "python",
   "pygments_lexer": "ipython3",
   "version": "3.6.3"
  }
 },
 "nbformat": 4,
 "nbformat_minor": 2
}
