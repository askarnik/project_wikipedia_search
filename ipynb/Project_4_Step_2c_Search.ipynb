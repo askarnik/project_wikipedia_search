{
 "cells": [
  {
   "cell_type": "code",
   "execution_count": 1,
   "metadata": {},
   "outputs": [
    {
     "name": "stdout",
     "output_type": "stream",
     "text": [
      "\n",
      "\n",
      "# All requested packages already installed.\n",
      "# packages in environment at /opt/conda:\n",
      "#\n",
      "altair                    1.2.1                      py_0    conda-forge\n",
      "psycopg2                  2.7.3.2                  py36_0    conda-forge\n"
     ]
    }
   ],
   "source": [
    "!conda install --yes --quiet altair psycopg2"
   ]
  },
  {
   "cell_type": "code",
   "execution_count": 2,
   "metadata": {},
   "outputs": [],
   "source": [
    "%run __init__.py"
   ]
  },
  {
   "cell_type": "code",
   "execution_count": 3,
   "metadata": {},
   "outputs": [
    {
     "name": "stdout",
     "output_type": "stream",
     "text": [
      "Requirement already satisfied: spacy in /opt/conda/lib/python3.6/site-packages\n",
      "Requirement already satisfied: nltk in /opt/conda/lib/python3.6/site-packages\n",
      "Requirement already satisfied: plac<1.0.0,>=0.9.6 in /opt/conda/lib/python3.6/site-packages (from spacy)\n",
      "Requirement already satisfied: pathlib in /opt/conda/lib/python3.6/site-packages (from spacy)\n",
      "Requirement already satisfied: requests<3.0.0,>=2.13.0 in /opt/conda/lib/python3.6/site-packages (from spacy)\n",
      "Requirement already satisfied: regex==2017.4.5 in /opt/conda/lib/python3.6/site-packages (from spacy)\n",
      "Requirement already satisfied: thinc<6.11.0,>=6.10.1 in /opt/conda/lib/python3.6/site-packages (from spacy)\n",
      "Requirement already satisfied: preshed<2.0.0,>=1.0.0 in /opt/conda/lib/python3.6/site-packages (from spacy)\n",
      "Requirement already satisfied: murmurhash<0.29,>=0.28 in /opt/conda/lib/python3.6/site-packages (from spacy)\n",
      "Requirement already satisfied: msgpack-numpy in /opt/conda/lib/python3.6/site-packages (from spacy)\n",
      "Requirement already satisfied: ujson>=1.35 in /opt/conda/lib/python3.6/site-packages (from spacy)\n",
      "Requirement already satisfied: msgpack-python in /opt/conda/lib/python3.6/site-packages (from spacy)\n",
      "Requirement already satisfied: dill<0.3,>=0.2 in /opt/conda/lib/python3.6/site-packages (from spacy)\n",
      "Requirement already satisfied: cymem<1.32,>=1.30 in /opt/conda/lib/python3.6/site-packages (from spacy)\n",
      "Requirement already satisfied: numpy>=1.7 in /opt/conda/lib/python3.6/site-packages (from spacy)\n",
      "Requirement already satisfied: six in /opt/conda/lib/python3.6/site-packages (from spacy)\n",
      "Requirement already satisfied: ftfy<5.0.0,>=4.4.2 in /opt/conda/lib/python3.6/site-packages (from spacy)\n",
      "Requirement already satisfied: chardet<3.1.0,>=3.0.2 in /opt/conda/lib/python3.6/site-packages (from requests<3.0.0,>=2.13.0->spacy)\n",
      "Requirement already satisfied: idna<2.7,>=2.5 in /opt/conda/lib/python3.6/site-packages (from requests<3.0.0,>=2.13.0->spacy)\n",
      "Requirement already satisfied: urllib3<1.23,>=1.21.1 in /opt/conda/lib/python3.6/site-packages (from requests<3.0.0,>=2.13.0->spacy)\n",
      "Requirement already satisfied: certifi>=2017.4.17 in /opt/conda/lib/python3.6/site-packages (from requests<3.0.0,>=2.13.0->spacy)\n",
      "Requirement already satisfied: wrapt in /opt/conda/lib/python3.6/site-packages (from thinc<6.11.0,>=6.10.1->spacy)\n",
      "Requirement already satisfied: cytoolz<0.9,>=0.8 in /opt/conda/lib/python3.6/site-packages (from thinc<6.11.0,>=6.10.1->spacy)\n",
      "Requirement already satisfied: termcolor in /opt/conda/lib/python3.6/site-packages (from thinc<6.11.0,>=6.10.1->spacy)\n",
      "Requirement already satisfied: tqdm<5.0.0,>=4.10.0 in /opt/conda/lib/python3.6/site-packages (from thinc<6.11.0,>=6.10.1->spacy)\n",
      "Requirement already satisfied: wcwidth in /opt/conda/lib/python3.6/site-packages (from ftfy<5.0.0,>=4.4.2->spacy)\n",
      "Requirement already satisfied: html5lib in /opt/conda/lib/python3.6/site-packages (from ftfy<5.0.0,>=4.4.2->spacy)\n",
      "Requirement already satisfied: toolz>=0.8.0 in /opt/conda/lib/python3.6/site-packages (from cytoolz<0.9,>=0.8->thinc<6.11.0,>=6.10.1->spacy)\n",
      "Requirement already satisfied: setuptools>=18.5 in /opt/conda/lib/python3.6/site-packages (from html5lib->ftfy<5.0.0,>=4.4.2->spacy)\n",
      "Requirement already satisfied: webencodings in /opt/conda/lib/python3.6/site-packages (from html5lib->ftfy<5.0.0,>=4.4.2->spacy)\n"
     ]
    }
   ],
   "source": [
    "!pip install spacy nltk"
   ]
  },
  {
   "cell_type": "code",
   "execution_count": 4,
   "metadata": {},
   "outputs": [
    {
     "name": "stdout",
     "output_type": "stream",
     "text": [
      "Collecting https://github.com/explosion/spacy-models/releases/download/en_core_web_sm-2.0.0/en_core_web_sm-2.0.0.tar.gz\n",
      "  Downloading https://github.com/explosion/spacy-models/releases/download/en_core_web_sm-2.0.0/en_core_web_sm-2.0.0.tar.gz (37.4MB)\n",
      "\u001b[K    100% |████████████████████████████████| 37.4MB 1.2MB/s ta 0:00:011\n",
      "\u001b[?25h  Requirement already satisfied (use --upgrade to upgrade): en-core-web-sm==2.0.0 from https://github.com/explosion/spacy-models/releases/download/en_core_web_sm-2.0.0/en_core_web_sm-2.0.0.tar.gz in /opt/conda/lib/python3.6/site-packages\n",
      "Requirement already satisfied: spacy>=2.0.0a18 in /opt/conda/lib/python3.6/site-packages (from en-core-web-sm==2.0.0)\n",
      "Requirement already satisfied: msgpack-numpy in /opt/conda/lib/python3.6/site-packages (from spacy>=2.0.0a18->en-core-web-sm==2.0.0)\n",
      "Requirement already satisfied: dill<0.3,>=0.2 in /opt/conda/lib/python3.6/site-packages (from spacy>=2.0.0a18->en-core-web-sm==2.0.0)\n",
      "Requirement already satisfied: six in /opt/conda/lib/python3.6/site-packages (from spacy>=2.0.0a18->en-core-web-sm==2.0.0)\n",
      "Requirement already satisfied: requests<3.0.0,>=2.13.0 in /opt/conda/lib/python3.6/site-packages (from spacy>=2.0.0a18->en-core-web-sm==2.0.0)\n",
      "Requirement already satisfied: preshed<2.0.0,>=1.0.0 in /opt/conda/lib/python3.6/site-packages (from spacy>=2.0.0a18->en-core-web-sm==2.0.0)\n",
      "Requirement already satisfied: numpy>=1.7 in /opt/conda/lib/python3.6/site-packages (from spacy>=2.0.0a18->en-core-web-sm==2.0.0)\n",
      "Requirement already satisfied: murmurhash<0.29,>=0.28 in /opt/conda/lib/python3.6/site-packages (from spacy>=2.0.0a18->en-core-web-sm==2.0.0)\n",
      "Requirement already satisfied: pathlib in /opt/conda/lib/python3.6/site-packages (from spacy>=2.0.0a18->en-core-web-sm==2.0.0)\n",
      "Requirement already satisfied: msgpack-python in /opt/conda/lib/python3.6/site-packages (from spacy>=2.0.0a18->en-core-web-sm==2.0.0)\n",
      "Requirement already satisfied: ftfy<5.0.0,>=4.4.2 in /opt/conda/lib/python3.6/site-packages (from spacy>=2.0.0a18->en-core-web-sm==2.0.0)\n",
      "Requirement already satisfied: thinc<6.11.0,>=6.10.1 in /opt/conda/lib/python3.6/site-packages (from spacy>=2.0.0a18->en-core-web-sm==2.0.0)\n",
      "Requirement already satisfied: cymem<1.32,>=1.30 in /opt/conda/lib/python3.6/site-packages (from spacy>=2.0.0a18->en-core-web-sm==2.0.0)\n",
      "Requirement already satisfied: plac<1.0.0,>=0.9.6 in /opt/conda/lib/python3.6/site-packages (from spacy>=2.0.0a18->en-core-web-sm==2.0.0)\n",
      "Requirement already satisfied: regex==2017.4.5 in /opt/conda/lib/python3.6/site-packages (from spacy>=2.0.0a18->en-core-web-sm==2.0.0)\n",
      "Requirement already satisfied: ujson>=1.35 in /opt/conda/lib/python3.6/site-packages (from spacy>=2.0.0a18->en-core-web-sm==2.0.0)\n",
      "Requirement already satisfied: chardet<3.1.0,>=3.0.2 in /opt/conda/lib/python3.6/site-packages (from requests<3.0.0,>=2.13.0->spacy>=2.0.0a18->en-core-web-sm==2.0.0)\n",
      "Requirement already satisfied: idna<2.7,>=2.5 in /opt/conda/lib/python3.6/site-packages (from requests<3.0.0,>=2.13.0->spacy>=2.0.0a18->en-core-web-sm==2.0.0)\n",
      "Requirement already satisfied: urllib3<1.23,>=1.21.1 in /opt/conda/lib/python3.6/site-packages (from requests<3.0.0,>=2.13.0->spacy>=2.0.0a18->en-core-web-sm==2.0.0)\n",
      "Requirement already satisfied: certifi>=2017.4.17 in /opt/conda/lib/python3.6/site-packages (from requests<3.0.0,>=2.13.0->spacy>=2.0.0a18->en-core-web-sm==2.0.0)\n",
      "Requirement already satisfied: wcwidth in /opt/conda/lib/python3.6/site-packages (from ftfy<5.0.0,>=4.4.2->spacy>=2.0.0a18->en-core-web-sm==2.0.0)\n",
      "Requirement already satisfied: html5lib in /opt/conda/lib/python3.6/site-packages (from ftfy<5.0.0,>=4.4.2->spacy>=2.0.0a18->en-core-web-sm==2.0.0)\n",
      "Requirement already satisfied: tqdm<5.0.0,>=4.10.0 in /opt/conda/lib/python3.6/site-packages (from thinc<6.11.0,>=6.10.1->spacy>=2.0.0a18->en-core-web-sm==2.0.0)\n",
      "Requirement already satisfied: wrapt in /opt/conda/lib/python3.6/site-packages (from thinc<6.11.0,>=6.10.1->spacy>=2.0.0a18->en-core-web-sm==2.0.0)\n",
      "Requirement already satisfied: cytoolz<0.9,>=0.8 in /opt/conda/lib/python3.6/site-packages (from thinc<6.11.0,>=6.10.1->spacy>=2.0.0a18->en-core-web-sm==2.0.0)\n",
      "Requirement already satisfied: termcolor in /opt/conda/lib/python3.6/site-packages (from thinc<6.11.0,>=6.10.1->spacy>=2.0.0a18->en-core-web-sm==2.0.0)\n",
      "Requirement already satisfied: setuptools>=18.5 in /opt/conda/lib/python3.6/site-packages (from html5lib->ftfy<5.0.0,>=4.4.2->spacy>=2.0.0a18->en-core-web-sm==2.0.0)\n",
      "Requirement already satisfied: webencodings in /opt/conda/lib/python3.6/site-packages (from html5lib->ftfy<5.0.0,>=4.4.2->spacy>=2.0.0a18->en-core-web-sm==2.0.0)\n",
      "Requirement already satisfied: toolz>=0.8.0 in /opt/conda/lib/python3.6/site-packages (from cytoolz<0.9,>=0.8->thinc<6.11.0,>=6.10.1->spacy>=2.0.0a18->en-core-web-sm==2.0.0)\n",
      "\n",
      "\u001b[93m    Linking successful\u001b[0m\n",
      "    /opt/conda/lib/python3.6/site-packages/en_core_web_sm -->\n",
      "    /opt/conda/lib/python3.6/site-packages/spacy/data/en\n",
      "\n",
      "    You can now load the model via spacy.load('en')\n",
      "\n"
     ]
    }
   ],
   "source": [
    "!python -m spacy download en"
   ]
  },
  {
   "cell_type": "code",
   "execution_count": 25,
   "metadata": {},
   "outputs": [
    {
     "name": "stdout",
     "output_type": "stream",
     "text": [
      "[nltk_data] Downloading package stopwords to /home/jovyan/nltk_data...\n",
      "[nltk_data]   Package stopwords is already up-to-date!\n"
     ]
    }
   ],
   "source": [
    "%run nlp.py"
   ]
  },
  {
   "cell_type": "code",
   "execution_count": 6,
   "metadata": {},
   "outputs": [],
   "source": [
    "df = pd.read_pickle('../pickled_data/wiki_data_clean_text.pkl')"
   ]
  },
  {
   "cell_type": "code",
   "execution_count": 7,
   "metadata": {},
   "outputs": [],
   "source": [
    "df['page_text_len'] = df.page_text_clean.map(lambda x: len(x.split()))"
   ]
  },
  {
   "cell_type": "code",
   "execution_count": 8,
   "metadata": {},
   "outputs": [
    {
     "data": {
      "text/plain": [
       "913     9518\n",
       "2873    7708\n",
       "916     6975\n",
       "231     6916\n",
       "249     6577\n",
       "2147    6509\n",
       "3536    5830\n",
       "96      5662\n",
       "671     5230\n",
       "891     5067\n",
       "Name: page_text_len, dtype: int64"
      ]
     },
     "execution_count": 8,
     "metadata": {},
     "output_type": "execute_result"
    }
   ],
   "source": [
    "df.page_text_len.sort_values(ascending=False).head(10)"
   ]
  },
  {
   "cell_type": "markdown",
   "metadata": {},
   "source": [
    "## Label encode the category"
   ]
  },
  {
   "cell_type": "code",
   "execution_count": 9,
   "metadata": {},
   "outputs": [],
   "source": [
    "le = LabelEncoder()\n",
    "df['ult_parent_numerical'] = le.fit_transform(df['ult_parent'])"
   ]
  },
  {
   "cell_type": "markdown",
   "metadata": {},
   "source": [
    "## Prepare Document Term Matrix"
   ]
  },
  {
   "cell_type": "code",
   "execution_count": 10,
   "metadata": {},
   "outputs": [],
   "source": [
    "tfidf_vectorizer = TfidfVectorizer(min_df=1, ngram_range=(1, 1))\n",
    "document_term_matrix_sps = tfidf_vectorizer.fit_transform(df.page_text_clean)"
   ]
  },
  {
   "cell_type": "code",
   "execution_count": 11,
   "metadata": {},
   "outputs": [
    {
     "data": {
      "text/plain": [
       "(4099, 51643)"
      ]
     },
     "execution_count": 11,
     "metadata": {},
     "output_type": "execute_result"
    }
   ],
   "source": [
    "document_term_matrix_sps.shape"
   ]
  },
  {
   "cell_type": "code",
   "execution_count": 12,
   "metadata": {},
   "outputs": [],
   "source": [
    "document_term_matrix_df = pd.DataFrame(document_term_matrix_sps.toarray(),\n",
    "                                       index=df.page_title,\n",
    "                                       columns=tfidf_vectorizer.get_feature_names())"
   ]
  },
  {
   "cell_type": "code",
   "execution_count": 13,
   "metadata": {},
   "outputs": [
    {
     "data": {
      "text/html": [
       "<div>\n",
       "<table border=\"1\" class=\"dataframe\">\n",
       "  <thead>\n",
       "    <tr style=\"text-align: right;\">\n",
       "      <th></th>\n",
       "      <th>aa</th>\n",
       "      <th>aaa</th>\n",
       "      <th>aaaa</th>\n",
       "      <th>aaaaj</th>\n",
       "      <th>aaabc</th>\n",
       "      <th>aaabcaaabcaaabcaaabc</th>\n",
       "      <th>aaai</th>\n",
       "      <th>aaajxb</th>\n",
       "      <th>aaas</th>\n",
       "      <th>aab</th>\n",
       "      <th>...</th>\n",
       "      <th>zylab</th>\n",
       "      <th>zynga</th>\n",
       "      <th>zynx</th>\n",
       "      <th>zynxambulatory</th>\n",
       "      <th>zynxcare</th>\n",
       "      <th>zynxevidence</th>\n",
       "      <th>zynxorder</th>\n",
       "      <th>zyrion</th>\n",
       "      <th>zz</th>\n",
       "      <th>zzap</th>\n",
       "    </tr>\n",
       "    <tr>\n",
       "      <th>page_title</th>\n",
       "      <th></th>\n",
       "      <th></th>\n",
       "      <th></th>\n",
       "      <th></th>\n",
       "      <th></th>\n",
       "      <th></th>\n",
       "      <th></th>\n",
       "      <th></th>\n",
       "      <th></th>\n",
       "      <th></th>\n",
       "      <th></th>\n",
       "      <th></th>\n",
       "      <th></th>\n",
       "      <th></th>\n",
       "      <th></th>\n",
       "      <th></th>\n",
       "      <th></th>\n",
       "      <th></th>\n",
       "      <th></th>\n",
       "      <th></th>\n",
       "      <th></th>\n",
       "    </tr>\n",
       "  </thead>\n",
       "  <tbody>\n",
       "    <tr>\n",
       "      <th>Data exploration</th>\n",
       "      <td>0.0</td>\n",
       "      <td>0.0</td>\n",
       "      <td>0.0</td>\n",
       "      <td>0.0</td>\n",
       "      <td>0.0</td>\n",
       "      <td>0.0</td>\n",
       "      <td>0.0</td>\n",
       "      <td>0.0</td>\n",
       "      <td>0.0</td>\n",
       "      <td>0.0</td>\n",
       "      <td>...</td>\n",
       "      <td>0.0</td>\n",
       "      <td>0.0</td>\n",
       "      <td>0.0</td>\n",
       "      <td>0.0</td>\n",
       "      <td>0.0</td>\n",
       "      <td>0.0</td>\n",
       "      <td>0.0</td>\n",
       "      <td>0.0</td>\n",
       "      <td>0.0</td>\n",
       "      <td>0.0</td>\n",
       "    </tr>\n",
       "    <tr>\n",
       "      <th>List of datasets for machine learning research</th>\n",
       "      <td>0.0</td>\n",
       "      <td>0.0</td>\n",
       "      <td>0.0</td>\n",
       "      <td>0.0</td>\n",
       "      <td>0.0</td>\n",
       "      <td>0.0</td>\n",
       "      <td>0.0</td>\n",
       "      <td>0.0</td>\n",
       "      <td>0.0</td>\n",
       "      <td>0.0</td>\n",
       "      <td>...</td>\n",
       "      <td>0.0</td>\n",
       "      <td>0.0</td>\n",
       "      <td>0.0</td>\n",
       "      <td>0.0</td>\n",
       "      <td>0.0</td>\n",
       "      <td>0.0</td>\n",
       "      <td>0.0</td>\n",
       "      <td>0.0</td>\n",
       "      <td>0.0</td>\n",
       "      <td>0.0</td>\n",
       "    </tr>\n",
       "    <tr>\n",
       "      <th>Machine learning</th>\n",
       "      <td>0.0</td>\n",
       "      <td>0.0</td>\n",
       "      <td>0.0</td>\n",
       "      <td>0.0</td>\n",
       "      <td>0.0</td>\n",
       "      <td>0.0</td>\n",
       "      <td>0.0</td>\n",
       "      <td>0.0</td>\n",
       "      <td>0.0</td>\n",
       "      <td>0.0</td>\n",
       "      <td>...</td>\n",
       "      <td>0.0</td>\n",
       "      <td>0.0</td>\n",
       "      <td>0.0</td>\n",
       "      <td>0.0</td>\n",
       "      <td>0.0</td>\n",
       "      <td>0.0</td>\n",
       "      <td>0.0</td>\n",
       "      <td>0.0</td>\n",
       "      <td>0.0</td>\n",
       "      <td>0.0</td>\n",
       "    </tr>\n",
       "    <tr>\n",
       "      <th>Outline of machine learning</th>\n",
       "      <td>0.0</td>\n",
       "      <td>0.0</td>\n",
       "      <td>0.0</td>\n",
       "      <td>0.0</td>\n",
       "      <td>0.0</td>\n",
       "      <td>0.0</td>\n",
       "      <td>0.0</td>\n",
       "      <td>0.0</td>\n",
       "      <td>0.0</td>\n",
       "      <td>0.0</td>\n",
       "      <td>...</td>\n",
       "      <td>0.0</td>\n",
       "      <td>0.0</td>\n",
       "      <td>0.0</td>\n",
       "      <td>0.0</td>\n",
       "      <td>0.0</td>\n",
       "      <td>0.0</td>\n",
       "      <td>0.0</td>\n",
       "      <td>0.0</td>\n",
       "      <td>0.0</td>\n",
       "      <td>0.0</td>\n",
       "    </tr>\n",
       "    <tr>\n",
       "      <th>Accuracy paradox</th>\n",
       "      <td>0.0</td>\n",
       "      <td>0.0</td>\n",
       "      <td>0.0</td>\n",
       "      <td>0.0</td>\n",
       "      <td>0.0</td>\n",
       "      <td>0.0</td>\n",
       "      <td>0.0</td>\n",
       "      <td>0.0</td>\n",
       "      <td>0.0</td>\n",
       "      <td>0.0</td>\n",
       "      <td>...</td>\n",
       "      <td>0.0</td>\n",
       "      <td>0.0</td>\n",
       "      <td>0.0</td>\n",
       "      <td>0.0</td>\n",
       "      <td>0.0</td>\n",
       "      <td>0.0</td>\n",
       "      <td>0.0</td>\n",
       "      <td>0.0</td>\n",
       "      <td>0.0</td>\n",
       "      <td>0.0</td>\n",
       "    </tr>\n",
       "  </tbody>\n",
       "</table>\n",
       "<p>5 rows × 51643 columns</p>\n",
       "</div>"
      ],
      "text/plain": [
       "                                                 aa  aaa  aaaa  aaaaj  aaabc  \\\n",
       "page_title                                                                     \n",
       "Data exploration                                0.0  0.0   0.0    0.0    0.0   \n",
       "List of datasets for machine learning research  0.0  0.0   0.0    0.0    0.0   \n",
       "Machine learning                                0.0  0.0   0.0    0.0    0.0   \n",
       "Outline of machine learning                     0.0  0.0   0.0    0.0    0.0   \n",
       "Accuracy paradox                                0.0  0.0   0.0    0.0    0.0   \n",
       "\n",
       "                                                aaabcaaabcaaabcaaabc  aaai  \\\n",
       "page_title                                                                   \n",
       "Data exploration                                                 0.0   0.0   \n",
       "List of datasets for machine learning research                   0.0   0.0   \n",
       "Machine learning                                                 0.0   0.0   \n",
       "Outline of machine learning                                      0.0   0.0   \n",
       "Accuracy paradox                                                 0.0   0.0   \n",
       "\n",
       "                                                aaajxb  aaas  aab  ...   \\\n",
       "page_title                                                         ...    \n",
       "Data exploration                                   0.0   0.0  0.0  ...    \n",
       "List of datasets for machine learning research     0.0   0.0  0.0  ...    \n",
       "Machine learning                                   0.0   0.0  0.0  ...    \n",
       "Outline of machine learning                        0.0   0.0  0.0  ...    \n",
       "Accuracy paradox                                   0.0   0.0  0.0  ...    \n",
       "\n",
       "                                                zylab  zynga  zynx  \\\n",
       "page_title                                                           \n",
       "Data exploration                                  0.0    0.0   0.0   \n",
       "List of datasets for machine learning research    0.0    0.0   0.0   \n",
       "Machine learning                                  0.0    0.0   0.0   \n",
       "Outline of machine learning                       0.0    0.0   0.0   \n",
       "Accuracy paradox                                  0.0    0.0   0.0   \n",
       "\n",
       "                                                zynxambulatory  zynxcare  \\\n",
       "page_title                                                                 \n",
       "Data exploration                                           0.0       0.0   \n",
       "List of datasets for machine learning research             0.0       0.0   \n",
       "Machine learning                                           0.0       0.0   \n",
       "Outline of machine learning                                0.0       0.0   \n",
       "Accuracy paradox                                           0.0       0.0   \n",
       "\n",
       "                                                zynxevidence  zynxorder  \\\n",
       "page_title                                                                \n",
       "Data exploration                                         0.0        0.0   \n",
       "List of datasets for machine learning research           0.0        0.0   \n",
       "Machine learning                                         0.0        0.0   \n",
       "Outline of machine learning                              0.0        0.0   \n",
       "Accuracy paradox                                         0.0        0.0   \n",
       "\n",
       "                                                zyrion   zz  zzap  \n",
       "page_title                                                         \n",
       "Data exploration                                   0.0  0.0   0.0  \n",
       "List of datasets for machine learning research     0.0  0.0   0.0  \n",
       "Machine learning                                   0.0  0.0   0.0  \n",
       "Outline of machine learning                        0.0  0.0   0.0  \n",
       "Accuracy paradox                                   0.0  0.0   0.0  \n",
       "\n",
       "[5 rows x 51643 columns]"
      ]
     },
     "execution_count": 13,
     "metadata": {},
     "output_type": "execute_result"
    }
   ],
   "source": [
    "document_term_matrix_df.head()"
   ]
  },
  {
   "cell_type": "markdown",
   "metadata": {},
   "source": [
    "## Search"
   ]
  },
  {
   "cell_type": "code",
   "execution_count": 14,
   "metadata": {},
   "outputs": [
    {
     "data": {
      "text/html": [
       "<div>\n",
       "<table border=\"1\" class=\"dataframe\">\n",
       "  <thead>\n",
       "    <tr style=\"text-align: right;\">\n",
       "      <th></th>\n",
       "      <th>keyword</th>\n",
       "    </tr>\n",
       "  </thead>\n",
       "  <tbody>\n",
       "    <tr>\n",
       "      <th>0</th>\n",
       "      <td>lasso</td>\n",
       "    </tr>\n",
       "    <tr>\n",
       "      <th>1</th>\n",
       "      <td>Excel</td>\n",
       "    </tr>\n",
       "    <tr>\n",
       "      <th>2</th>\n",
       "      <td>Oracle</td>\n",
       "    </tr>\n",
       "    <tr>\n",
       "      <th>3</th>\n",
       "      <td>support vector machine</td>\n",
       "    </tr>\n",
       "    <tr>\n",
       "      <th>4</th>\n",
       "      <td>logistic regression</td>\n",
       "    </tr>\n",
       "    <tr>\n",
       "      <th>5</th>\n",
       "      <td>natural language processing</td>\n",
       "    </tr>\n",
       "    <tr>\n",
       "      <th>6</th>\n",
       "      <td>TurboTax</td>\n",
       "    </tr>\n",
       "  </tbody>\n",
       "</table>\n",
       "</div>"
      ],
      "text/plain": [
       "                       keyword\n",
       "0                        lasso\n",
       "1                        Excel\n",
       "2                       Oracle\n",
       "3       support vector machine\n",
       "4          logistic regression\n",
       "5  natural language processing\n",
       "6                     TurboTax"
      ]
     },
     "execution_count": 14,
     "metadata": {},
     "output_type": "execute_result"
    }
   ],
   "source": [
    "wiki_keywords = [\n",
    "    {'keyword': 'lasso'},\n",
    "    {'keyword': 'Excel'},\n",
    "    {'keyword': 'Oracle'},\n",
    "    {'keyword': 'support vector machine'},\n",
    "    {'keyword': 'logistic regression'},\n",
    "    {'keyword': 'natural language processing'},\n",
    "    {'keyword': 'TurboTax'}\n",
    "]\n",
    "\n",
    "wiki_keywords_df = pd.DataFrame(wiki_keywords)\n",
    "wiki_keywords_df"
   ]
  },
  {
   "cell_type": "code",
   "execution_count": 15,
   "metadata": {},
   "outputs": [],
   "source": [
    "keywords_encoded = tfidf_vectorizer.transform(wiki_keywords_df.keyword)"
   ]
  },
  {
   "cell_type": "code",
   "execution_count": 16,
   "metadata": {},
   "outputs": [],
   "source": [
    "keywords_encoded_df = pd.DataFrame(keywords_encoded.toarray(), \n",
    "                                       index=wiki_keywords_df.keyword, \n",
    "                                       columns=tfidf_vectorizer.get_feature_names())"
   ]
  },
  {
   "cell_type": "code",
   "execution_count": 17,
   "metadata": {},
   "outputs": [
    {
     "data": {
      "text/html": [
       "<div>\n",
       "<table border=\"1\" class=\"dataframe\">\n",
       "  <thead>\n",
       "    <tr style=\"text-align: right;\">\n",
       "      <th></th>\n",
       "      <th>aa</th>\n",
       "      <th>aaa</th>\n",
       "      <th>aaaa</th>\n",
       "      <th>aaaaj</th>\n",
       "      <th>aaabc</th>\n",
       "      <th>aaabcaaabcaaabcaaabc</th>\n",
       "      <th>aaai</th>\n",
       "      <th>aaajxb</th>\n",
       "      <th>aaas</th>\n",
       "      <th>aab</th>\n",
       "      <th>...</th>\n",
       "      <th>zylab</th>\n",
       "      <th>zynga</th>\n",
       "      <th>zynx</th>\n",
       "      <th>zynxambulatory</th>\n",
       "      <th>zynxcare</th>\n",
       "      <th>zynxevidence</th>\n",
       "      <th>zynxorder</th>\n",
       "      <th>zyrion</th>\n",
       "      <th>zz</th>\n",
       "      <th>zzap</th>\n",
       "    </tr>\n",
       "    <tr>\n",
       "      <th>keyword</th>\n",
       "      <th></th>\n",
       "      <th></th>\n",
       "      <th></th>\n",
       "      <th></th>\n",
       "      <th></th>\n",
       "      <th></th>\n",
       "      <th></th>\n",
       "      <th></th>\n",
       "      <th></th>\n",
       "      <th></th>\n",
       "      <th></th>\n",
       "      <th></th>\n",
       "      <th></th>\n",
       "      <th></th>\n",
       "      <th></th>\n",
       "      <th></th>\n",
       "      <th></th>\n",
       "      <th></th>\n",
       "      <th></th>\n",
       "      <th></th>\n",
       "      <th></th>\n",
       "    </tr>\n",
       "  </thead>\n",
       "  <tbody>\n",
       "    <tr>\n",
       "      <th>TurboTax</th>\n",
       "      <td>0.0</td>\n",
       "      <td>0.0</td>\n",
       "      <td>0.0</td>\n",
       "      <td>0.0</td>\n",
       "      <td>0.0</td>\n",
       "      <td>0.0</td>\n",
       "      <td>0.0</td>\n",
       "      <td>0.0</td>\n",
       "      <td>0.0</td>\n",
       "      <td>0.0</td>\n",
       "      <td>...</td>\n",
       "      <td>0.0</td>\n",
       "      <td>0.0</td>\n",
       "      <td>0.0</td>\n",
       "      <td>0.0</td>\n",
       "      <td>0.0</td>\n",
       "      <td>0.0</td>\n",
       "      <td>0.0</td>\n",
       "      <td>0.0</td>\n",
       "      <td>0.0</td>\n",
       "      <td>0.0</td>\n",
       "    </tr>\n",
       "    <tr>\n",
       "      <th>Oracle</th>\n",
       "      <td>0.0</td>\n",
       "      <td>0.0</td>\n",
       "      <td>0.0</td>\n",
       "      <td>0.0</td>\n",
       "      <td>0.0</td>\n",
       "      <td>0.0</td>\n",
       "      <td>0.0</td>\n",
       "      <td>0.0</td>\n",
       "      <td>0.0</td>\n",
       "      <td>0.0</td>\n",
       "      <td>...</td>\n",
       "      <td>0.0</td>\n",
       "      <td>0.0</td>\n",
       "      <td>0.0</td>\n",
       "      <td>0.0</td>\n",
       "      <td>0.0</td>\n",
       "      <td>0.0</td>\n",
       "      <td>0.0</td>\n",
       "      <td>0.0</td>\n",
       "      <td>0.0</td>\n",
       "      <td>0.0</td>\n",
       "    </tr>\n",
       "    <tr>\n",
       "      <th>Excel</th>\n",
       "      <td>0.0</td>\n",
       "      <td>0.0</td>\n",
       "      <td>0.0</td>\n",
       "      <td>0.0</td>\n",
       "      <td>0.0</td>\n",
       "      <td>0.0</td>\n",
       "      <td>0.0</td>\n",
       "      <td>0.0</td>\n",
       "      <td>0.0</td>\n",
       "      <td>0.0</td>\n",
       "      <td>...</td>\n",
       "      <td>0.0</td>\n",
       "      <td>0.0</td>\n",
       "      <td>0.0</td>\n",
       "      <td>0.0</td>\n",
       "      <td>0.0</td>\n",
       "      <td>0.0</td>\n",
       "      <td>0.0</td>\n",
       "      <td>0.0</td>\n",
       "      <td>0.0</td>\n",
       "      <td>0.0</td>\n",
       "    </tr>\n",
       "    <tr>\n",
       "      <th>support vector machine</th>\n",
       "      <td>0.0</td>\n",
       "      <td>0.0</td>\n",
       "      <td>0.0</td>\n",
       "      <td>0.0</td>\n",
       "      <td>0.0</td>\n",
       "      <td>0.0</td>\n",
       "      <td>0.0</td>\n",
       "      <td>0.0</td>\n",
       "      <td>0.0</td>\n",
       "      <td>0.0</td>\n",
       "      <td>...</td>\n",
       "      <td>0.0</td>\n",
       "      <td>0.0</td>\n",
       "      <td>0.0</td>\n",
       "      <td>0.0</td>\n",
       "      <td>0.0</td>\n",
       "      <td>0.0</td>\n",
       "      <td>0.0</td>\n",
       "      <td>0.0</td>\n",
       "      <td>0.0</td>\n",
       "      <td>0.0</td>\n",
       "    </tr>\n",
       "  </tbody>\n",
       "</table>\n",
       "<p>4 rows × 51643 columns</p>\n",
       "</div>"
      ],
      "text/plain": [
       "                         aa  aaa  aaaa  aaaaj  aaabc  aaabcaaabcaaabcaaabc  \\\n",
       "keyword                                                                      \n",
       "TurboTax                0.0  0.0   0.0    0.0    0.0                   0.0   \n",
       "Oracle                  0.0  0.0   0.0    0.0    0.0                   0.0   \n",
       "Excel                   0.0  0.0   0.0    0.0    0.0                   0.0   \n",
       "support vector machine  0.0  0.0   0.0    0.0    0.0                   0.0   \n",
       "\n",
       "                        aaai  aaajxb  aaas  aab  ...   zylab  zynga  zynx  \\\n",
       "keyword                                          ...                        \n",
       "TurboTax                 0.0     0.0   0.0  0.0  ...     0.0    0.0   0.0   \n",
       "Oracle                   0.0     0.0   0.0  0.0  ...     0.0    0.0   0.0   \n",
       "Excel                    0.0     0.0   0.0  0.0  ...     0.0    0.0   0.0   \n",
       "support vector machine   0.0     0.0   0.0  0.0  ...     0.0    0.0   0.0   \n",
       "\n",
       "                        zynxambulatory  zynxcare  zynxevidence  zynxorder  \\\n",
       "keyword                                                                     \n",
       "TurboTax                           0.0       0.0           0.0        0.0   \n",
       "Oracle                             0.0       0.0           0.0        0.0   \n",
       "Excel                              0.0       0.0           0.0        0.0   \n",
       "support vector machine             0.0       0.0           0.0        0.0   \n",
       "\n",
       "                        zyrion   zz  zzap  \n",
       "keyword                                    \n",
       "TurboTax                   0.0  0.0   0.0  \n",
       "Oracle                     0.0  0.0   0.0  \n",
       "Excel                      0.0  0.0   0.0  \n",
       "support vector machine     0.0  0.0   0.0  \n",
       "\n",
       "[4 rows x 51643 columns]"
      ]
     },
     "execution_count": 17,
     "metadata": {},
     "output_type": "execute_result"
    }
   ],
   "source": [
    "keywords_encoded_df.sample(4)"
   ]
  },
  {
   "cell_type": "markdown",
   "metadata": {},
   "source": [
    "## Select a Random Keyword"
   ]
  },
  {
   "cell_type": "code",
   "execution_count": 18,
   "metadata": {},
   "outputs": [
    {
     "data": {
      "text/html": [
       "<div>\n",
       "<table border=\"1\" class=\"dataframe\">\n",
       "  <thead>\n",
       "    <tr style=\"text-align: right;\">\n",
       "      <th></th>\n",
       "      <th>aa</th>\n",
       "      <th>aaa</th>\n",
       "      <th>aaaa</th>\n",
       "      <th>aaaaj</th>\n",
       "      <th>aaabc</th>\n",
       "      <th>aaabcaaabcaaabcaaabc</th>\n",
       "      <th>aaai</th>\n",
       "      <th>aaajxb</th>\n",
       "      <th>aaas</th>\n",
       "      <th>aab</th>\n",
       "      <th>...</th>\n",
       "      <th>zylab</th>\n",
       "      <th>zynga</th>\n",
       "      <th>zynx</th>\n",
       "      <th>zynxambulatory</th>\n",
       "      <th>zynxcare</th>\n",
       "      <th>zynxevidence</th>\n",
       "      <th>zynxorder</th>\n",
       "      <th>zyrion</th>\n",
       "      <th>zz</th>\n",
       "      <th>zzap</th>\n",
       "    </tr>\n",
       "    <tr>\n",
       "      <th>keyword</th>\n",
       "      <th></th>\n",
       "      <th></th>\n",
       "      <th></th>\n",
       "      <th></th>\n",
       "      <th></th>\n",
       "      <th></th>\n",
       "      <th></th>\n",
       "      <th></th>\n",
       "      <th></th>\n",
       "      <th></th>\n",
       "      <th></th>\n",
       "      <th></th>\n",
       "      <th></th>\n",
       "      <th></th>\n",
       "      <th></th>\n",
       "      <th></th>\n",
       "      <th></th>\n",
       "      <th></th>\n",
       "      <th></th>\n",
       "      <th></th>\n",
       "      <th></th>\n",
       "    </tr>\n",
       "  </thead>\n",
       "  <tbody>\n",
       "    <tr>\n",
       "      <th>Excel</th>\n",
       "      <td>0.0</td>\n",
       "      <td>0.0</td>\n",
       "      <td>0.0</td>\n",
       "      <td>0.0</td>\n",
       "      <td>0.0</td>\n",
       "      <td>0.0</td>\n",
       "      <td>0.0</td>\n",
       "      <td>0.0</td>\n",
       "      <td>0.0</td>\n",
       "      <td>0.0</td>\n",
       "      <td>...</td>\n",
       "      <td>0.0</td>\n",
       "      <td>0.0</td>\n",
       "      <td>0.0</td>\n",
       "      <td>0.0</td>\n",
       "      <td>0.0</td>\n",
       "      <td>0.0</td>\n",
       "      <td>0.0</td>\n",
       "      <td>0.0</td>\n",
       "      <td>0.0</td>\n",
       "      <td>0.0</td>\n",
       "    </tr>\n",
       "  </tbody>\n",
       "</table>\n",
       "<p>1 rows × 51643 columns</p>\n",
       "</div>"
      ],
      "text/plain": [
       "          aa  aaa  aaaa  aaaaj  aaabc  aaabcaaabcaaabcaaabc  aaai  aaajxb  \\\n",
       "keyword                                                                     \n",
       "Excel    0.0  0.0   0.0    0.0    0.0                   0.0   0.0     0.0   \n",
       "\n",
       "         aaas  aab  ...   zylab  zynga  zynx  zynxambulatory  zynxcare  \\\n",
       "keyword             ...                                                  \n",
       "Excel     0.0  0.0  ...     0.0    0.0   0.0             0.0       0.0   \n",
       "\n",
       "         zynxevidence  zynxorder  zyrion   zz  zzap  \n",
       "keyword                                              \n",
       "Excel             0.0        0.0     0.0  0.0   0.0  \n",
       "\n",
       "[1 rows x 51643 columns]"
      ]
     },
     "execution_count": 18,
     "metadata": {},
     "output_type": "execute_result"
    }
   ],
   "source": [
    "random_keyword_df = keywords_encoded_df.sample()\n",
    "random_keyword_df"
   ]
  },
  {
   "cell_type": "markdown",
   "metadata": {},
   "source": [
    "## Append the search term to the document term matrix"
   ]
  },
  {
   "cell_type": "code",
   "execution_count": 19,
   "metadata": {},
   "outputs": [],
   "source": [
    "dtm_with_search_term = document_term_matrix_df.append(random_keyword_df)"
   ]
  },
  {
   "cell_type": "markdown",
   "metadata": {},
   "source": [
    "## Compute SVD of Augmented Document Term Matrix"
   ]
  },
  {
   "cell_type": "code",
   "execution_count": 20,
   "metadata": {},
   "outputs": [],
   "source": [
    "n_components = 50\n",
    "SVD = TruncatedSVD(n_components)\n",
    "component_names = [\"component_\"+str(i+1) for i in range(n_components)]"
   ]
  },
  {
   "cell_type": "code",
   "execution_count": 21,
   "metadata": {},
   "outputs": [],
   "source": [
    "svd_matrix = SVD.fit_transform(dtm_with_search_term)"
   ]
  },
  {
   "cell_type": "code",
   "execution_count": 22,
   "metadata": {},
   "outputs": [],
   "source": [
    "svd_df = pd.DataFrame(svd_matrix, \n",
    "                      index=dtm_with_search_term.index, \n",
    "                      columns=component_names)"
   ]
  },
  {
   "cell_type": "markdown",
   "metadata": {},
   "source": [
    "## Identify the Vector for our Search Term"
   ]
  },
  {
   "cell_type": "code",
   "execution_count": 24,
   "metadata": {},
   "outputs": [
    {
     "data": {
      "text/html": [
       "<div>\n",
       "<table border=\"1\" class=\"dataframe\">\n",
       "  <thead>\n",
       "    <tr style=\"text-align: right;\">\n",
       "      <th></th>\n",
       "      <th>component_1</th>\n",
       "      <th>component_2</th>\n",
       "      <th>component_3</th>\n",
       "      <th>component_4</th>\n",
       "      <th>component_5</th>\n",
       "      <th>component_6</th>\n",
       "      <th>component_7</th>\n",
       "      <th>component_8</th>\n",
       "      <th>component_9</th>\n",
       "      <th>component_10</th>\n",
       "      <th>...</th>\n",
       "      <th>component_41</th>\n",
       "      <th>component_42</th>\n",
       "      <th>component_43</th>\n",
       "      <th>component_44</th>\n",
       "      <th>component_45</th>\n",
       "      <th>component_46</th>\n",
       "      <th>component_47</th>\n",
       "      <th>component_48</th>\n",
       "      <th>component_49</th>\n",
       "      <th>component_50</th>\n",
       "    </tr>\n",
       "  </thead>\n",
       "  <tbody>\n",
       "    <tr>\n",
       "      <th>Excel</th>\n",
       "      <td>0.014904</td>\n",
       "      <td>-0.008866</td>\n",
       "      <td>-0.00738</td>\n",
       "      <td>-0.009253</td>\n",
       "      <td>-0.030398</td>\n",
       "      <td>0.004078</td>\n",
       "      <td>-0.030654</td>\n",
       "      <td>0.037165</td>\n",
       "      <td>-0.009811</td>\n",
       "      <td>-0.00455</td>\n",
       "      <td>...</td>\n",
       "      <td>0.024188</td>\n",
       "      <td>-0.040488</td>\n",
       "      <td>0.017002</td>\n",
       "      <td>0.079302</td>\n",
       "      <td>-0.0408</td>\n",
       "      <td>-0.000398</td>\n",
       "      <td>0.048318</td>\n",
       "      <td>0.029099</td>\n",
       "      <td>0.004722</td>\n",
       "      <td>0.020905</td>\n",
       "    </tr>\n",
       "  </tbody>\n",
       "</table>\n",
       "<p>1 rows × 50 columns</p>\n",
       "</div>"
      ],
      "text/plain": [
       "       component_1  component_2  component_3  component_4  component_5  \\\n",
       "Excel     0.014904    -0.008866     -0.00738    -0.009253    -0.030398   \n",
       "\n",
       "       component_6  component_7  component_8  component_9  component_10  \\\n",
       "Excel     0.004078    -0.030654     0.037165    -0.009811      -0.00455   \n",
       "\n",
       "           ...       component_41  component_42  component_43  component_44  \\\n",
       "Excel      ...           0.024188     -0.040488      0.017002      0.079302   \n",
       "\n",
       "       component_45  component_46  component_47  component_48  component_49  \\\n",
       "Excel       -0.0408     -0.000398      0.048318      0.029099      0.004722   \n",
       "\n",
       "       component_50  \n",
       "Excel      0.020905  \n",
       "\n",
       "[1 rows x 50 columns]"
      ]
     },
     "execution_count": 24,
     "metadata": {},
     "output_type": "execute_result"
    }
   ],
   "source": [
    "search_term_svd_vector = svd_df.loc[random_keyword_df.index]\n",
    "search_term_svd_vector"
   ]
  },
  {
   "cell_type": "markdown",
   "metadata": {},
   "source": [
    "## Use Cosine Similarity to Find the Most Similar Vector"
   ]
  },
  {
   "cell_type": "code",
   "execution_count": 26,
   "metadata": {},
   "outputs": [],
   "source": [
    "svd_df['cosine_sim'] = cosine_similarity(svd_df, search_term_svd_vector)"
   ]
  },
  {
   "cell_type": "code",
   "execution_count": 27,
   "metadata": {},
   "outputs": [
    {
     "data": {
      "text/html": [
       "<div>\n",
       "<table border=\"1\" class=\"dataframe\">\n",
       "  <thead>\n",
       "    <tr style=\"text-align: right;\">\n",
       "      <th></th>\n",
       "      <th>cosine_sim</th>\n",
       "    </tr>\n",
       "  </thead>\n",
       "  <tbody>\n",
       "    <tr>\n",
       "      <th>Excel</th>\n",
       "      <td>1.000000</td>\n",
       "    </tr>\n",
       "    <tr>\n",
       "      <th>LibreOffice Calc</th>\n",
       "      <td>0.821157</td>\n",
       "    </tr>\n",
       "    <tr>\n",
       "      <th>FarPoint Spread</th>\n",
       "      <td>0.801284</td>\n",
       "    </tr>\n",
       "    <tr>\n",
       "      <th>Gnumeric</th>\n",
       "      <td>0.797423</td>\n",
       "    </tr>\n",
       "    <tr>\n",
       "      <th>Logical spreadsheet</th>\n",
       "      <td>0.780991</td>\n",
       "    </tr>\n",
       "  </tbody>\n",
       "</table>\n",
       "</div>"
      ],
      "text/plain": [
       "                     cosine_sim\n",
       "Excel                  1.000000\n",
       "LibreOffice Calc       0.821157\n",
       "FarPoint Spread        0.801284\n",
       "Gnumeric               0.797423\n",
       "Logical spreadsheet    0.780991"
      ]
     },
     "execution_count": 27,
     "metadata": {},
     "output_type": "execute_result"
    }
   ],
   "source": [
    "svd_df[['cosine_sim']].sort_values('cosine_sim', ascending=False).head(5)"
   ]
  },
  {
   "cell_type": "code",
   "execution_count": null,
   "metadata": {},
   "outputs": [],
   "source": []
  }
 ],
 "metadata": {
  "kernelspec": {
   "display_name": "Python 3",
   "language": "python",
   "name": "python3"
  },
  "language_info": {
   "codemirror_mode": {
    "name": "ipython",
    "version": 3
   },
   "file_extension": ".py",
   "mimetype": "text/x-python",
   "name": "python",
   "nbconvert_exporter": "python",
   "pygments_lexer": "ipython3",
   "version": "3.6.3"
  }
 },
 "nbformat": 4,
 "nbformat_minor": 2
}
