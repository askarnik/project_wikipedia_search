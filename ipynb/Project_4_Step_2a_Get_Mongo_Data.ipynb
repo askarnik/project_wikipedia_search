{
 "cells": [
  {
   "cell_type": "code",
   "execution_count": 1,
   "metadata": {},
   "outputs": [
    {
     "name": "stdout",
     "output_type": "stream",
     "text": [
      "\n",
      "\n",
      "# All requested packages already installed.\n",
      "# packages in environment at /opt/conda:\n",
      "#\n",
      "pymongo                   3.4.0                    py36_0    defaults\n"
     ]
    }
   ],
   "source": [
    "!conda install --yes --quiet pymongo"
   ]
  },
  {
   "cell_type": "code",
   "execution_count": 2,
   "metadata": {},
   "outputs": [],
   "source": [
    "%run __init__.py"
   ]
  },
  {
   "cell_type": "code",
   "execution_count": 3,
   "metadata": {},
   "outputs": [],
   "source": [
    "%run mongo_conn.py"
   ]
  },
  {
   "cell_type": "code",
   "execution_count": 4,
   "metadata": {},
   "outputs": [],
   "source": [
    "client = pymongo.MongoClient(mongo_ip, 27016)\n",
    "db_ref = client.wikipedia_text\n",
    "coll_ref = db_ref.my_collection"
   ]
  },
  {
   "cell_type": "code",
   "execution_count": 5,
   "metadata": {},
   "outputs": [
    {
     "data": {
      "text/plain": [
       "4099"
      ]
     },
     "execution_count": 5,
     "metadata": {},
     "output_type": "execute_result"
    }
   ],
   "source": [
    "coll_ref.count()"
   ]
  },
  {
   "cell_type": "code",
   "execution_count": 6,
   "metadata": {},
   "outputs": [
    {
     "data": {
      "text/plain": [
       "(4099, 5)"
      ]
     },
     "execution_count": 6,
     "metadata": {},
     "output_type": "execute_result"
    }
   ],
   "source": [
    "df = pd.DataFrame(list(coll_ref.find()))\n",
    "df.shape"
   ]
  },
  {
   "cell_type": "code",
   "execution_count": 7,
   "metadata": {},
   "outputs": [
    {
     "data": {
      "text/html": [
       "<div>\n",
       "<table border=\"1\" class=\"dataframe\">\n",
       "  <thead>\n",
       "    <tr style=\"text-align: right;\">\n",
       "      <th></th>\n",
       "      <th>_id</th>\n",
       "      <th>immed_parent</th>\n",
       "      <th>page_text</th>\n",
       "      <th>page_title</th>\n",
       "      <th>ult_parent</th>\n",
       "    </tr>\n",
       "  </thead>\n",
       "  <tbody>\n",
       "    <tr>\n",
       "      <th>0</th>\n",
       "      <td>5a15b8c9f2de43002d4a52d5</td>\n",
       "      <td>Category:Machine learning</td>\n",
       "      <td>&lt;p&gt;&lt;b&gt;Data exploration&lt;/b&gt; is an approach simi...</td>\n",
       "      <td>Data exploration</td>\n",
       "      <td>Category:Machine learning</td>\n",
       "    </tr>\n",
       "    <tr>\n",
       "      <th>1</th>\n",
       "      <td>5a15b8caf2de43002d4a52d6</td>\n",
       "      <td>Category:Machine learning</td>\n",
       "      <td>&lt;p&gt;These datasets are used for machine-learnin...</td>\n",
       "      <td>List of datasets for machine learning research</td>\n",
       "      <td>Category:Machine learning</td>\n",
       "    </tr>\n",
       "    <tr>\n",
       "      <th>2</th>\n",
       "      <td>5a15b8caf2de43002d4a52d7</td>\n",
       "      <td>Category:Machine learning</td>\n",
       "      <td>&lt;p&gt;&lt;b&gt;Machine learning&lt;/b&gt; is a field of compu...</td>\n",
       "      <td>Machine learning</td>\n",
       "      <td>Category:Machine learning</td>\n",
       "    </tr>\n",
       "    <tr>\n",
       "      <th>3</th>\n",
       "      <td>5a15b8caf2de43002d4a52d8</td>\n",
       "      <td>Category:Machine learning</td>\n",
       "      <td>&lt;p&gt;The following outline is provided as an ove...</td>\n",
       "      <td>Outline of machine learning</td>\n",
       "      <td>Category:Machine learning</td>\n",
       "    </tr>\n",
       "    <tr>\n",
       "      <th>4</th>\n",
       "      <td>5a15b8cbf2de43002d4a52d9</td>\n",
       "      <td>Category:Machine learning</td>\n",
       "      <td>&lt;p&gt;The &lt;b&gt;accuracy paradox&lt;/b&gt; for predictive ...</td>\n",
       "      <td>Accuracy paradox</td>\n",
       "      <td>Category:Machine learning</td>\n",
       "    </tr>\n",
       "  </tbody>\n",
       "</table>\n",
       "</div>"
      ],
      "text/plain": [
       "                        _id               immed_parent  \\\n",
       "0  5a15b8c9f2de43002d4a52d5  Category:Machine learning   \n",
       "1  5a15b8caf2de43002d4a52d6  Category:Machine learning   \n",
       "2  5a15b8caf2de43002d4a52d7  Category:Machine learning   \n",
       "3  5a15b8caf2de43002d4a52d8  Category:Machine learning   \n",
       "4  5a15b8cbf2de43002d4a52d9  Category:Machine learning   \n",
       "\n",
       "                                           page_text  \\\n",
       "0  <p><b>Data exploration</b> is an approach simi...   \n",
       "1  <p>These datasets are used for machine-learnin...   \n",
       "2  <p><b>Machine learning</b> is a field of compu...   \n",
       "3  <p>The following outline is provided as an ove...   \n",
       "4  <p>The <b>accuracy paradox</b> for predictive ...   \n",
       "\n",
       "                                       page_title                 ult_parent  \n",
       "0                                Data exploration  Category:Machine learning  \n",
       "1  List of datasets for machine learning research  Category:Machine learning  \n",
       "2                                Machine learning  Category:Machine learning  \n",
       "3                     Outline of machine learning  Category:Machine learning  \n",
       "4                                Accuracy paradox  Category:Machine learning  "
      ]
     },
     "execution_count": 7,
     "metadata": {},
     "output_type": "execute_result"
    }
   ],
   "source": [
    "df.head()"
   ]
  },
  {
   "cell_type": "code",
   "execution_count": 8,
   "metadata": {},
   "outputs": [],
   "source": [
    "df.to_pickle('../pickled_data/wiki_data.pkl')"
   ]
  }
 ],
 "metadata": {
  "kernelspec": {
   "display_name": "Python 3",
   "language": "python",
   "name": "python3"
  },
  "language_info": {
   "codemirror_mode": {
    "name": "ipython",
    "version": 3
   },
   "file_extension": ".py",
   "mimetype": "text/x-python",
   "name": "python",
   "nbconvert_exporter": "python",
   "pygments_lexer": "ipython3",
   "version": "3.6.3"
  }
 },
 "nbformat": 4,
 "nbformat_minor": 2
}
